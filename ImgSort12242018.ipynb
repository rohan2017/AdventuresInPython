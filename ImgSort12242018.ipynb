{
 "cells": [
  {
   "cell_type": "markdown",
   "metadata": {},
   "source": [
    "Goal:\n",
    "    Make a program that goes through every folder and every file + finds all images + puts them in a spreadsheet with metadata.\n",
    "    Also rename to who is in the picture by going through and manually seeing"
   ]
  },
  {
   "cell_type": "markdown",
   "metadata": {},
   "source": [
    "This recursive program searches for pictures in a directory."
   ]
  },
  {
   "cell_type": "code",
   "execution_count": 56,
   "metadata": {},
   "outputs": [],
   "source": [
    "import os,sys\n",
    "import PIL\n",
    "from PIL import Image\n",
    "from PIL.ExifTags import TAGS\n",
    "\n",
    "def searchdir(path, newlist):\n",
    "    # print(path)\n",
    " \n",
    "    for item in os.listdir(path):\n",
    "        fullpath = path + \"/\" + item\n",
    "        if(os.path.isfile(fullpath)):\n",
    "            if(item.endswith(\".jpg\")):\n",
    "                print(fullpath)\n",
    "                newlist.append(fullpath)\n",
    "        else:\n",
    "            print(fullpath)\n",
    "            searchdir(fullpath, newlist)\n",
    "    return newlist\n",
    "\n",
    "\n",
    "def getmetadata(file):\n",
    "    img = Image.open(file)\n",
    "    metadata = img._getexif()\n",
    "    return metadata\n",
    "\n",
    "\n",
    "def gettags(fn):\n",
    "    ret = {}\n",
    "    i = Image.open(fn)\n",
    "    info = i._getexif()\n",
    "    try:\n",
    "        for (tag, value) in info.items():\n",
    "            decoded = TAGS.get(tag, tag)\n",
    "            ret[decoded] = value\n",
    "            vla = decoded + \":\" + str(value)\n",
    "            print(vla)\n",
    "    except:\n",
    "        print(\"No metadata for \" + fn)\n",
    "    return ret\n",
    "\n"
   ]
  },
  {
   "cell_type": "code",
   "execution_count": 57,
   "metadata": {
    "scrolled": false
   },
   "outputs": [
    {
     "name": "stdout",
     "output_type": "stream",
     "text": [
      "C:/Users/rohan/OneDrive/Pictures/2018-11\n",
      "C:/Users/rohan/OneDrive/Pictures/2018-11/Good Ones\n",
      "C:/Users/rohan/OneDrive/Pictures/Camera Roll\n",
      "C:/Users/rohan/OneDrive/Pictures/Camera Roll/drive-download-20180613T010756Z-001\n",
      "C:/Users/rohan/OneDrive/Pictures/FlashIntegro\n",
      "C:/Users/rohan/OneDrive/Pictures/FlashIntegro/VideoDownloader\n",
      "C:/Users/rohan/OneDrive/Pictures/GameCenter\n",
      "C:/Users/rohan/OneDrive/Pictures/Saved Pictures\n",
      "C:/Users/rohan/OneDrive/Pictures/Saved Pictures/IMG_0486.jpg\n",
      "C:/Users/rohan/OneDrive/Pictures/Saved Pictures/SunsetLake_Wallpaper.jpg\n",
      "C:/Users/rohan/OneDrive/Pictures/Saved Pictures/Wallpapers\n",
      "C:/Users/rohan/OneDrive/Pictures/Saved Pictures/Wallpapers/electronic1.jpg\n",
      "C:/Users/rohan/OneDrive/Pictures/Saved Pictures/Wallpapers/electronics4.jpg\n",
      "C:/Users/rohan/OneDrive/Pictures/Saved Pictures/Wallpapers/space1.jpg\n",
      "C:/Users/rohan/OneDrive/Pictures/Saved Pictures/Wallpapers/space2.jpg\n",
      "C:/Users/rohan/OneDrive/Pictures/Saved Pictures/Wallpapers/space3.jpg\n",
      "C:/Users/rohan/OneDrive/Pictures/Saved Pictures/Wallpapers/space4.jpg\n",
      "C:/Users/rohan/OneDrive/Pictures/Saved Pictures/Wallpapers/space5.jpg\n",
      "C:/Users/rohan/OneDrive/Pictures/Saved Pictures/Wallpapers/space7.jpg\n",
      "C:/Users/rohan/OneDrive/Pictures/Saved Pictures/Wallpapers/space8.jpg\n",
      "C:/Users/rohan/OneDrive/Pictures/Saved Pictures/Wallpapers/Spacex_wallpaper.jpg\n",
      "C:/Users/rohan/OneDrive/Pictures/Screenshots\n",
      "Files found\n",
      "['C:/Users/rohan/OneDrive/Pictures/Saved Pictures/IMG_0486.jpg', 'C:/Users/rohan/OneDrive/Pictures/Saved Pictures/SunsetLake_Wallpaper.jpg', 'C:/Users/rohan/OneDrive/Pictures/Saved Pictures/Wallpapers/electronic1.jpg', 'C:/Users/rohan/OneDrive/Pictures/Saved Pictures/Wallpapers/electronics4.jpg', 'C:/Users/rohan/OneDrive/Pictures/Saved Pictures/Wallpapers/space1.jpg', 'C:/Users/rohan/OneDrive/Pictures/Saved Pictures/Wallpapers/space2.jpg', 'C:/Users/rohan/OneDrive/Pictures/Saved Pictures/Wallpapers/space3.jpg', 'C:/Users/rohan/OneDrive/Pictures/Saved Pictures/Wallpapers/space4.jpg', 'C:/Users/rohan/OneDrive/Pictures/Saved Pictures/Wallpapers/space5.jpg', 'C:/Users/rohan/OneDrive/Pictures/Saved Pictures/Wallpapers/space7.jpg', 'C:/Users/rohan/OneDrive/Pictures/Saved Pictures/Wallpapers/space8.jpg', 'C:/Users/rohan/OneDrive/Pictures/Saved Pictures/Wallpapers/Spacex_wallpaper.jpg']\n",
      "Now getting metadata \n",
      "\n",
      "The raw metadata for: C:/Users/rohan/OneDrive/Pictures/Saved Pictures/IMG_0486.jpg is:\n",
      "{34665: 26, 40961: 1, 40962: 2048, 40963: 1536}\n",
      "ExifOffset:26\n",
      "ColorSpace:1\n",
      "ExifImageWidth:2048\n",
      "ExifImageHeight:1536\n",
      "The metadata with tags is:\n",
      "{'ExifOffset': 26, 'ColorSpace': 1, 'ExifImageWidth': 2048, 'ExifImageHeight': 1536}\n",
      "The raw metadata for: C:/Users/rohan/OneDrive/Pictures/Saved Pictures/SunsetLake_Wallpaper.jpg is:\n",
      "None\n",
      "No metadata for C:/Users/rohan/OneDrive/Pictures/Saved Pictures/SunsetLake_Wallpaper.jpg\n",
      "The metadata with tags is:\n",
      "{}\n",
      "The raw metadata for: C:/Users/rohan/OneDrive/Pictures/Saved Pictures/Wallpapers/electronic1.jpg is:\n",
      "{256: 1920, 257: 1080, 258: (8, 8, 8), 262: 2, 296: 2, 34665: 232, 305: 'Adobe Photoshop CS6 (Windows)', 274: 1, 306: '2016:11:07 10:59:56', 277: 3, 282: (720000, 10000), 283: (720000, 10000), 36864: b'0221', 40961: 65535, 40962: 1920, 40963: 1080}\n",
      "ImageWidth:1920\n",
      "ImageLength:1080\n",
      "BitsPerSample:(8, 8, 8)\n",
      "PhotometricInterpretation:2\n",
      "ResolutionUnit:2\n",
      "ExifOffset:232\n",
      "Software:Adobe Photoshop CS6 (Windows)\n",
      "Orientation:1\n",
      "DateTime:2016:11:07 10:59:56\n",
      "SamplesPerPixel:3\n",
      "XResolution:(720000, 10000)\n",
      "YResolution:(720000, 10000)\n",
      "ExifVersion:b'0221'\n",
      "ColorSpace:65535\n",
      "ExifImageWidth:1920\n",
      "ExifImageHeight:1080\n",
      "The metadata with tags is:\n",
      "{'ImageWidth': 1920, 'ImageLength': 1080, 'BitsPerSample': (8, 8, 8), 'PhotometricInterpretation': 2, 'ResolutionUnit': 2, 'ExifOffset': 232, 'Software': 'Adobe Photoshop CS6 (Windows)', 'Orientation': 1, 'DateTime': '2016:11:07 10:59:56', 'SamplesPerPixel': 3, 'XResolution': (720000, 10000), 'YResolution': (720000, 10000), 'ExifVersion': b'0221', 'ColorSpace': 65535, 'ExifImageWidth': 1920, 'ExifImageHeight': 1080}\n",
      "The raw metadata for: C:/Users/rohan/OneDrive/Pictures/Saved Pictures/Wallpapers/electronics4.jpg is:\n",
      "None\n",
      "No metadata for C:/Users/rohan/OneDrive/Pictures/Saved Pictures/Wallpapers/electronics4.jpg\n",
      "The metadata with tags is:\n",
      "{}\n",
      "The raw metadata for: C:/Users/rohan/OneDrive/Pictures/Saved Pictures/Wallpapers/space1.jpg is:\n",
      "{}\n",
      "The metadata with tags is:\n",
      "{}\n",
      "The raw metadata for: C:/Users/rohan/OneDrive/Pictures/Saved Pictures/Wallpapers/space2.jpg is:\n",
      "None\n",
      "No metadata for C:/Users/rohan/OneDrive/Pictures/Saved Pictures/Wallpapers/space2.jpg\n",
      "The metadata with tags is:\n",
      "{}\n",
      "The raw metadata for: C:/Users/rohan/OneDrive/Pictures/Saved Pictures/Wallpapers/space3.jpg is:\n",
      "{}\n",
      "The metadata with tags is:\n",
      "{}\n",
      "The raw metadata for: C:/Users/rohan/OneDrive/Pictures/Saved Pictures/Wallpapers/space4.jpg is:\n",
      "None\n",
      "No metadata for C:/Users/rohan/OneDrive/Pictures/Saved Pictures/Wallpapers/space4.jpg\n",
      "The metadata with tags is:\n",
      "{}\n",
      "The raw metadata for: C:/Users/rohan/OneDrive/Pictures/Saved Pictures/Wallpapers/space5.jpg is:\n",
      "None\n",
      "No metadata for C:/Users/rohan/OneDrive/Pictures/Saved Pictures/Wallpapers/space5.jpg\n",
      "The metadata with tags is:\n",
      "{}\n",
      "The raw metadata for: C:/Users/rohan/OneDrive/Pictures/Saved Pictures/Wallpapers/space7.jpg is:\n",
      "None\n",
      "No metadata for C:/Users/rohan/OneDrive/Pictures/Saved Pictures/Wallpapers/space7.jpg\n",
      "The metadata with tags is:\n",
      "{}\n",
      "The raw metadata for: C:/Users/rohan/OneDrive/Pictures/Saved Pictures/Wallpapers/space8.jpg is:\n",
      "{305: 'Adobe Photoshop Elements 7.0 Windows', 274: 1, 306: '2010:07:07 11:06:51', 296: 2, 34665: 172, 282: (720000, 10000), 283: (720000, 10000), 40961: 1, 40962: 2369, 40963: 3000}\n",
      "Software:Adobe Photoshop Elements 7.0 Windows\n",
      "Orientation:1\n",
      "DateTime:2010:07:07 11:06:51\n",
      "ResolutionUnit:2\n",
      "ExifOffset:172\n",
      "XResolution:(720000, 10000)\n",
      "YResolution:(720000, 10000)\n",
      "ColorSpace:1\n",
      "ExifImageWidth:2369\n",
      "ExifImageHeight:3000\n",
      "The metadata with tags is:\n",
      "{'Software': 'Adobe Photoshop Elements 7.0 Windows', 'Orientation': 1, 'DateTime': '2010:07:07 11:06:51', 'ResolutionUnit': 2, 'ExifOffset': 172, 'XResolution': (720000, 10000), 'YResolution': (720000, 10000), 'ColorSpace': 1, 'ExifImageWidth': 2369, 'ExifImageHeight': 3000}\n",
      "The raw metadata for: C:/Users/rohan/OneDrive/Pictures/Saved Pictures/Wallpapers/Spacex_wallpaper.jpg is:\n",
      "None\n",
      "No metadata for C:/Users/rohan/OneDrive/Pictures/Saved Pictures/Wallpapers/Spacex_wallpaper.jpg\n",
      "The metadata with tags is:\n",
      "{}\n"
     ]
    }
   ],
   "source": [
    "newlist = []\n",
    "filelist = searchdir(\"C:/Users/rohan/OneDrive/Pictures\", newlist)\n",
    "print(\"Files found\")\n",
    "print(filelist)\n",
    "print(\"Now getting metadata \\n\")\n",
    "for img in filelist:\n",
    "    rawmetadata = getmetadata(img)\n",
    "    print(\"The raw metadata for: \" + img + \" is:\")\n",
    "    print(rawmetadata)\n",
    "    metatags = gettags(img)\n",
    "    print(\"The metadata with tags is:\")\n",
    "    print(metatags)"
   ]
  },
  {
   "cell_type": "markdown",
   "metadata": {},
   "source": [
    "Get Metadata test"
   ]
  },
  {
   "cell_type": "code",
   "execution_count": 51,
   "metadata": {},
   "outputs": [
    {
     "name": "stdout",
     "output_type": "stream",
     "text": [
      "ImageWidth:1920\n",
      "ImageLength:1080\n",
      "BitsPerSample:(8, 8, 8)\n",
      "PhotometricInterpretation:2\n",
      "ResolutionUnit:2\n",
      "ExifOffset:232\n",
      "Software:Adobe Photoshop CS6 (Windows)\n",
      "Orientation:1\n",
      "DateTime:2016:11:07 10:59:56\n",
      "SamplesPerPixel:3\n",
      "XResolution:(720000, 10000)\n",
      "YResolution:(720000, 10000)\n",
      "ExifVersion:b'0221'\n",
      "ColorSpace:65535\n",
      "ExifImageWidth:1920\n",
      "ExifImageHeight:1080\n",
      "{'ImageWidth': 1920, 'ImageLength': 1080, 'BitsPerSample': (8, 8, 8), 'PhotometricInterpretation': 2, 'ResolutionUnit': 2, 'ExifOffset': 232, 'Software': 'Adobe Photoshop CS6 (Windows)', 'Orientation': 1, 'DateTime': '2016:11:07 10:59:56', 'SamplesPerPixel': 3, 'XResolution': (720000, 10000), 'YResolution': (720000, 10000), 'ExifVersion': b'0221', 'ColorSpace': 65535, 'ExifImageWidth': 1920, 'ExifImageHeight': 1080}\n"
     ]
    }
   ],
   "source": [
    "metatags = gettags(\"C:/Users/rohan/OneDrive/Pictures/Saved Pictures/Wallpapers/electronic1.jpg\")\n",
    "print(metatags)"
   ]
  },
  {
   "cell_type": "markdown",
   "metadata": {},
   "source": [
    "Pillow test"
   ]
  },
  {
   "cell_type": "code",
   "execution_count": null,
   "metadata": {},
   "outputs": [],
   "source": []
  }
 ],
 "metadata": {
  "kernelspec": {
   "display_name": "Python 3",
   "language": "python",
   "name": "python3"
  },
  "language_info": {
   "codemirror_mode": {
    "name": "ipython",
    "version": 3
   },
   "file_extension": ".py",
   "mimetype": "text/x-python",
   "name": "python",
   "nbconvert_exporter": "python",
   "pygments_lexer": "ipython3",
   "version": "3.6.7"
  }
 },
 "nbformat": 4,
 "nbformat_minor": 2
}
