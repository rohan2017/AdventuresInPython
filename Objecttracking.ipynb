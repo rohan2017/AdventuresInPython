{
 "cells": [
  {
   "cell_type": "code",
   "execution_count": 2,
   "metadata": {},
   "outputs": [
    {
     "name": "stdout",
     "output_type": "stream",
     "text": [
      "3.4.2\n"
     ]
    }
   ],
   "source": [
    "# import the necessary packages\n",
    "from imutils.object_detection import non_max_suppression\n",
    "from imutils import paths\n",
    "import numpy as np\n",
    "import argparse\n",
    "import sys\n",
    "import imutils\n",
    "import cv2\n",
    "print(cv2.__version__)"
   ]
  },
  {
   "cell_type": "code",
   "execution_count": 5,
   "metadata": {},
   "outputs": [
    {
     "ename": "ModuleNotFoundError",
     "evalue": "No module named 'video'",
     "output_type": "error",
     "traceback": [
      "\u001b[1;31m---------------------------------------------------------------------------\u001b[0m",
      "\u001b[1;31mModuleNotFoundError\u001b[0m                       Traceback (most recent call last)",
      "\u001b[1;32m<ipython-input-5-b3c4074812e6>\u001b[0m in \u001b[0;36m<module>\u001b[1;34m\u001b[0m\n\u001b[0;32m      3\u001b[0m \u001b[1;33m\u001b[0m\u001b[0m\n\u001b[0;32m      4\u001b[0m \u001b[1;31m# local modules\u001b[0m\u001b[1;33m\u001b[0m\u001b[1;33m\u001b[0m\u001b[1;33m\u001b[0m\u001b[0m\n\u001b[1;32m----> 5\u001b[1;33m \u001b[1;32mfrom\u001b[0m \u001b[0mvideo\u001b[0m \u001b[1;32mimport\u001b[0m \u001b[0mcreate_capture\u001b[0m\u001b[1;33m\u001b[0m\u001b[1;33m\u001b[0m\u001b[0m\n\u001b[0m\u001b[0;32m      6\u001b[0m \u001b[1;32mfrom\u001b[0m \u001b[0mcommon\u001b[0m \u001b[1;32mimport\u001b[0m \u001b[0mclock\u001b[0m\u001b[1;33m,\u001b[0m \u001b[0mdraw_str\u001b[0m\u001b[1;33m\u001b[0m\u001b[1;33m\u001b[0m\u001b[0m\n\u001b[0;32m      7\u001b[0m \u001b[1;33m\u001b[0m\u001b[0m\n",
      "\u001b[1;31mModuleNotFoundError\u001b[0m: No module named 'video'"
     ]
    }
   ],
   "source": [
    "# local modules\n",
    "from video import create_capture\n",
    "from common import clock, draw_str\n",
    "\n",
    "def detect(img, cascade):\n",
    "    rects = cascade.detectMultiScale(img, scaleFactor=1.3, minNeighbors=4, minSize=(30, 30),\n",
    "                                     flags=cv.CASCADE_SCALE_IMAGE)\n",
    "    if len(rects) == 0:\n",
    "        return []\n",
    "    rects[:,2:] += rects[:,:2]\n",
    "    return rects\n",
    "\n",
    "def draw_rects(img, rects, color):\n",
    "    for x1, y1, x2, y2 in rects:\n",
    "        cv.rectangle(img, (x1, y1), (x2, y2), color, 2)\n",
    "\n",
    "if __name__ == '__main__':\n",
    "    import sys, getopt\n",
    "    print(__doc__)\n",
    "\n",
    "    args, video_src = getopt.getopt(sys.argv[1:], '', ['cascade=', 'nested-cascade='])\n",
    "    try:\n",
    "        video_src = video_src[0]\n",
    "    except:\n",
    "        video_src = 0\n",
    "    args = dict(args)\n",
    "    cascade_fn = args.get('--cascade', \"data/haarcascades/haarcascade_frontalface_alt.xml\")\n",
    "    nested_fn  = args.get('--nested-cascade', \"data/haarcascades/haarcascade_eye.xml\")\n",
    "\n",
    "    cascade = cv.CascadeClassifier(cv.samples.findFile(cascade_fn))\n",
    "    nested = cv.CascadeClassifier(cv.samples.findFile(nested_fn))\n",
    "\n",
    "    cam = create_capture(video_src, fallback='synth:bg={}:noise=0.05'.format(cv.samples.findFile('samples/data/lena.jpg')))\n",
    "\n",
    "    while True:\n",
    "        ret, img = cam.read()\n",
    "        gray = cv.cvtColor(img, cv.COLOR_BGR2GRAY)\n",
    "        gray = cv.equalizeHist(gray)\n",
    "\n",
    "        t = clock()\n",
    "        rects = detect(gray, cascade)\n",
    "        vis = img.copy()\n",
    "        draw_rects(vis, rects, (0, 255, 0))\n",
    "        if not nested.empty():\n",
    "            for x1, y1, x2, y2 in rects:\n",
    "                roi = gray[y1:y2, x1:x2]\n",
    "                vis_roi = vis[y1:y2, x1:x2]\n",
    "                subrects = detect(roi.copy(), nested)\n",
    "                draw_rects(vis_roi, subrects, (255, 0, 0))\n",
    "        dt = clock() - t\n",
    "\n",
    "        draw_str(vis, (20, 20), 'time: %.1f ms' % (dt*1000))\n",
    "        cv.imshow('facedetect', vis)\n",
    "\n",
    "        if cv.waitKey(5) == 27:\n",
    "            break\n",
    "    cv.destroyAllWindows()"
   ]
  },
  {
   "cell_type": "code",
   "execution_count": null,
   "metadata": {},
   "outputs": [],
   "source": []
  }
 ],
 "metadata": {
  "kernelspec": {
   "display_name": "Python 3",
   "language": "python",
   "name": "python3"
  },
  "language_info": {
   "codemirror_mode": {
    "name": "ipython",
    "version": 3
   },
   "file_extension": ".py",
   "mimetype": "text/x-python",
   "name": "python",
   "nbconvert_exporter": "python",
   "pygments_lexer": "ipython3",
   "version": "3.6.7"
  }
 },
 "nbformat": 4,
 "nbformat_minor": 2
}
