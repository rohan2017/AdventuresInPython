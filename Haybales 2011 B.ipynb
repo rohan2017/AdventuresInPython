{
 "cells": [
  {
   "cell_type": "markdown",
   "metadata": {},
   "source": [
    "# Bronze Division \"Hay Bales\" 2011"
   ]
  },
  {
   "cell_type": "markdown",
   "metadata": {},
   "source": [
    "There are N piles of hay bales of equal height. Some hay bales get moved from pile to pile so that they are not the same height.\n",
    "Given the number of piles and the height of the piles. What is the minimum number of piles that need to be moved to restore the \n",
    "equal heights of the piles."
   ]
  },
  {
   "cell_type": "markdown",
   "metadata": {},
   "source": [
    "Brainstorm:\n",
    "1. Find the required height by taking the sum of heights divided by the amount of stacks\n",
    "2. for every hay stack, make an array of the stack height - the required height\n",
    "3. sum up the positive numbers."
   ]
  },
  {
   "cell_type": "code",
   "execution_count": 3,
   "metadata": {},
   "outputs": [
    {
     "name": "stdout",
     "output_type": "stream",
     "text": [
      "20\n",
      "27\n",
      "22\n",
      "36\n",
      "12\n",
      "18\n",
      "18\n",
      "30\n",
      "33\n",
      "31\n",
      "12\n",
      "24\n",
      "17\n",
      "36\n",
      "29\n",
      "3\n",
      "23\n",
      "8\n",
      "20\n",
      "18\n",
      "43\n"
     ]
    }
   ],
   "source": [
    "import os\n",
    "base_path = \"C:/Users/rohan/OneDrive/Documents/USACODatasets/haybales/\"\n",
    "filename = \"I.3\"\n",
    "path_to_file = os.path.join(base_path, filename)\n",
    "testset = open(path_to_file , 'r')\n",
    "\n",
    "number = 0\n",
    "filelist = []\n",
    "for line in testset:\n",
    "    line = line.strip()\n",
    "    # edited: add `if line and ...` to skip empty string\n",
    "    if line and line[0].isdigit():\n",
    "        try:\n",
    "            number = line\n",
    "            print(number)\n",
    "        except ValueError:\n",
    "            print(\"line not an integer\")"
   ]
  },
  {
   "cell_type": "code",
   "execution_count": 15,
   "metadata": {},
   "outputs": [
    {
     "name": "stdout",
     "output_type": "stream",
     "text": [
      "[27, 22, 36, 12, 18, 18, 30, 33, 31, 12, 24, 17, 36, 29, 3, 23, 8, 20, 18, 43]\n",
      "82.0\n"
     ]
    }
   ],
   "source": [
    "import os\n",
    "base_path = \"C:/Users/rohan/OneDrive/Documents/USACODatasets/haybales/\"\n",
    "filename = \"I.3\"\n",
    "path_to_file = os.path.join(base_path, filename)\n",
    "testset = open(path_to_file , 'r')\n",
    "\n",
    "number = 0\n",
    "filelist = []\n",
    "for line in testset:\n",
    "    line = line.strip()\n",
    "    # edited: add `if line and ...` to skip empty string\n",
    "    if line and line[0].isdigit():\n",
    "        try:\n",
    "            number = line\n",
    "            filelist.append(number)\n",
    "        except ValueError:\n",
    "            print(\"line not an integer\")\n",
    "\n",
    "heights = []\n",
    "hsum = 0\n",
    "piles = int(filelist[0])\n",
    "for x in range (1, len(filelist)):\n",
    "    height = int(filelist[x])\n",
    "    heights.append(height)\n",
    "    hsum = hsum + height\n",
    "print(heights)\n",
    "actual = hsum/piles\n",
    "missing = []\n",
    "moves = 0\n",
    "for x in heights:\n",
    "    if(x > actual):\n",
    "        missing.append(x - actual)\n",
    "        moves = moves + x - actual\n",
    "        \n",
    "print(moves)"
   ]
  }
 ],
 "metadata": {
  "kernelspec": {
   "display_name": "Python 3",
   "language": "python",
   "name": "python3"
  },
  "language_info": {
   "codemirror_mode": {
    "name": "ipython",
    "version": 3
   },
   "file_extension": ".py",
   "mimetype": "text/x-python",
   "name": "python",
   "nbconvert_exporter": "python",
   "pygments_lexer": "ipython3",
   "version": "3.6.7"
  }
 },
 "nbformat": 4,
 "nbformat_minor": 2
}
