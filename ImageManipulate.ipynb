{
 "cells": [
  {
   "cell_type": "code",
   "execution_count": 5,
   "metadata": {},
   "outputs": [
    {
     "name": "stdout",
     "output_type": "stream",
     "text": [
      "shape of image\n",
      "(384, 512, 3)\n",
      "(384, 512)\n",
      "grayscale shape\n",
      "(384, 512)\n",
      "grayscale\n",
      "<class 'numpy.ndarray'>\n",
      "255\n",
      "r\n",
      "<class 'numpy.ndarray'>\n",
      "255\n"
     ]
    }
   ],
   "source": [
    "import cv2\n",
    "import numpy as np\n",
    "\n",
    "image = cv2.imread(\"C:/Users/rohan/Sublime Programs/OpenCv/clouds.jpg\")\n",
    "\n",
    "gray_image = cv2.cvtColor(image, cv2.COLOR_BGR2GRAY)\n",
    "\n",
    "print(\"shape of image\")\n",
    "print(image.shape)\n",
    "\n",
    "b,g,r = cv2.split(image)\n",
    "\n",
    "b[1:384,1:512] = 0\n",
    "g[1:384,1:512] = 0\n",
    "\n",
    "imred = cv2.merge((b,g,r))\n",
    "cv2.imshow(\"red\", imred)\n",
    "\n",
    "\"\"\"\n",
    "imager = cv2.merge((r,r,r))\n",
    "imageg = cv2.merge((g,g,g))\n",
    "imageb = cv2.merge((b,b,b))\n",
    "\n",
    "cv2.imshow(\"r\", imager)\n",
    "cv2.imshow(\"g\", imageg)\n",
    "cv2.imshow(\"b\", imageb)\n",
    "\"\"\"\n",
    "# cv2.imshow(\"Over the Clouds\", image)\n",
    "# cv2.imshow(\"Over the Clouds - gray\", gray_image)\n",
    "# cv2.imshow(\"r\", r)\n",
    "\n",
    "# print(r)\n",
    "print(r.shape)\n",
    "print(\"grayscale shape\")\n",
    "print(gray_image.shape)\n",
    "\n",
    "print(\"grayscale\")\n",
    "print(type(gray_image))\n",
    "print(np.amax(gray_image))\n",
    "print(\"r\")\n",
    "print(type(r))\n",
    "print(np.amax(r))\n",
    "\n",
    "# press escape\n",
    "cv2.waitKey(0)\n",
    "cv2.destroyAllWindows()"
   ]
  },
  {
   "cell_type": "code",
   "execution_count": null,
   "metadata": {},
   "outputs": [],
   "source": []
  }
 ],
 "metadata": {
  "kernelspec": {
   "display_name": "Python 3",
   "language": "python",
   "name": "python3"
  },
  "language_info": {
   "codemirror_mode": {
    "name": "ipython",
    "version": 3
   },
   "file_extension": ".py",
   "mimetype": "text/x-python",
   "name": "python",
   "nbconvert_exporter": "python",
   "pygments_lexer": "ipython3",
   "version": "3.6.7"
  }
 },
 "nbformat": 4,
 "nbformat_minor": 2
}
